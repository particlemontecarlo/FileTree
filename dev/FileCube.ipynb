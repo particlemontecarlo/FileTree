{
 "cells": [
  {
   "cell_type": "markdown",
   "id": "5c164e12-2e6e-4a34-a44b-404317b7267d",
   "metadata": {},
   "source": [
    "Perhaps something that can access\n",
    "1. Names recursively\n",
    "1. Collections of names by specifying the layer. This could be the case if passing a dict"
   ]
  },
  {
   "cell_type": "code",
   "execution_count": 1,
   "id": "22d62007-203b-413c-87b8-789c91f83a15",
   "metadata": {},
   "outputs": [],
   "source": [
    "from treelib import Tree\n",
    "from collections import OrderedDict\n",
    "from pathlib import Path\n",
    "\n",
    "class ProductTree():\n",
    "    \n",
    "    \n",
    "    def __init__(self):\n",
    "        \n",
    "        self._tree = Tree()\n",
    "\n",
    "    def create_product_tree(self, root_node_name, ordered_dict):\n",
    "        \"\"\"\n",
    "        takes in tag name of root and list of lists each of which\n",
    "        will recursively add leaves\n",
    "        \"\"\"\n",
    "        \n",
    "        unique_id = 0\n",
    "        \n",
    "        root_node = self._tree.create_node(root_node_name, identifier=id_val, data=Path(root_node_name))\n",
    "        unique_id += 1\n",
    "        \n",
    "        \n",
    "        assert(type(ordered_dict) is OrderedDict)\n",
    "\n",
    "        def add_branch(parent_node, new_children, unique_id):\n",
    "            \"\"\"\n",
    "            for a given parent id add new children\n",
    "            and return the child ids\n",
    "            \"\"\"\n",
    "            child_nodes = []\n",
    "            for child in new_children:\n",
    "                folder = parent_node.data / child\n",
    "                new_node = self._tree.create_node(child, \n",
    "                    parent=parent_node,\n",
    "                    identifier=id_val,\n",
    "                    data=folder)\n",
    "                unique_id += 1\n",
    "                child_nodes += [new_node]\n",
    "                \n",
    "            return child_nodes, unique_id\n",
    "\n",
    "        \n",
    "        old_parent_ids = [root_node]\n",
    "\n",
    "        for name, values in ordered_dict.items():\n",
    "\n",
    "            new_parent_nodes = []\n",
    "            new_children = values\n",
    "\n",
    "            for parent_node in old_parent_ids:\n",
    "                child_nodes, unique_id = add_branch(parent_node, new_children, unique_id)\n",
    "                \n",
    "                new_parent_nodes += child_nodes\n",
    "\n",
    "            old_parent_ids = new_parent_nodes.copy()\n",
    "            setattr(self, name, old_parent_ids)\n"
   ]
  },
  {
   "cell_type": "code",
   "execution_count": 9,
   "id": "fe8fd359-779a-4485-b5b0-e99a2fd382c6",
   "metadata": {},
   "outputs": [
    {
     "name": "stdout",
     "output_type": "stream",
     "text": [
      "project_name\n",
      "├── 01-01-2022\n",
      "│   ├── dataset_1\n",
      "│   │   ├── param_val_1\n",
      "│   │   ├── param_val_2\n",
      "│   │   └── param_val_3\n",
      "│   └── dataset_2\n",
      "│       ├── param_val_1\n",
      "│       ├── param_val_2\n",
      "│       └── param_val_3\n",
      "└── 02-01-2022\n",
      "    ├── dataset_1\n",
      "    │   ├── param_val_1\n",
      "    │   ├── param_val_2\n",
      "    │   └── param_val_3\n",
      "    └── dataset_2\n",
      "        ├── param_val_1\n",
      "        ├── param_val_2\n",
      "        └── param_val_3\n",
      "\n"
     ]
    }
   ],
   "source": [
    "from collections import OrderedDict\n",
    "\n",
    "t = ProductTree()\n",
    "\n",
    "od = OrderedDict(\n",
    "    timestamps=['01-01-2022','02-01-2022'],\n",
    "    datasets=['dataset_1','dataset_2'],\n",
    "    model_parameters=['param_val_1','param_val_2','param_val_3']\n",
    ")\n",
    "\n",
    "t.create_product_tree('project_name', od)\n",
    "\n",
    "t._tree.show()"
   ]
  },
  {
   "cell_type": "code",
   "execution_count": 12,
   "id": "50fc515f-2d1a-4847-8b5b-f753302e4cb5",
   "metadata": {},
   "outputs": [],
   "source": [
    "a = t.model_parameters[0]"
   ]
  },
  {
   "cell_type": "code",
   "execution_count": 19,
   "id": "fa9987ee-49fc-4724-b5b8-04ae16d32497",
   "metadata": {},
   "outputs": [
    {
     "data": {
      "text/plain": [
       "Node(tag=dataset_1, identifier=3, data=project_name/01-01-2022/dataset_1)"
      ]
     },
     "execution_count": 19,
     "metadata": {},
     "output_type": "execute_result"
    }
   ],
   "source": [
    "t._tree.parent(a.identifier)"
   ]
  },
  {
   "cell_type": "code",
   "execution_count": 18,
   "id": "e647a53e-fb1b-4a2d-957d-cd462fd18758",
   "metadata": {},
   "outputs": [
    {
     "data": {
      "text/plain": [
       "[Node(tag=project_name, identifier=0, data=project_name),\n",
       " Node(tag=01-01-2022, identifier=1, data=project_name/01-01-2022),\n",
       " Node(tag=02-01-2022, identifier=2, data=project_name/02-01-2022),\n",
       " Node(tag=dataset_1, identifier=3, data=project_name/01-01-2022/dataset_1),\n",
       " Node(tag=dataset_2, identifier=4, data=project_name/01-01-2022/dataset_2),\n",
       " Node(tag=dataset_1, identifier=5, data=project_name/02-01-2022/dataset_1),\n",
       " Node(tag=dataset_2, identifier=6, data=project_name/02-01-2022/dataset_2),\n",
       " Node(tag=param_val_1, identifier=7, data=project_name/01-01-2022/dataset_1/param_val_1),\n",
       " Node(tag=param_val_2, identifier=8, data=project_name/01-01-2022/dataset_1/param_val_2),\n",
       " Node(tag=param_val_3, identifier=9, data=project_name/01-01-2022/dataset_1/param_val_3),\n",
       " Node(tag=param_val_1, identifier=10, data=project_name/01-01-2022/dataset_2/param_val_1),\n",
       " Node(tag=param_val_2, identifier=11, data=project_name/01-01-2022/dataset_2/param_val_2),\n",
       " Node(tag=param_val_3, identifier=12, data=project_name/01-01-2022/dataset_2/param_val_3),\n",
       " Node(tag=param_val_1, identifier=13, data=project_name/02-01-2022/dataset_1/param_val_1),\n",
       " Node(tag=param_val_2, identifier=14, data=project_name/02-01-2022/dataset_1/param_val_2),\n",
       " Node(tag=param_val_3, identifier=15, data=project_name/02-01-2022/dataset_1/param_val_3),\n",
       " Node(tag=param_val_1, identifier=16, data=project_name/02-01-2022/dataset_2/param_val_1),\n",
       " Node(tag=param_val_2, identifier=17, data=project_name/02-01-2022/dataset_2/param_val_2),\n",
       " Node(tag=param_val_3, identifier=18, data=project_name/02-01-2022/dataset_2/param_val_3)]"
      ]
     },
     "execution_count": 18,
     "metadata": {},
     "output_type": "execute_result"
    }
   ],
   "source": [
    "t._tree.all_nodes()"
   ]
  },
  {
   "cell_type": "code",
   "execution_count": null,
   "id": "f30b665c-6dca-4487-bdd5-691a2fd3190a",
   "metadata": {},
   "outputs": [],
   "source": []
  }
 ],
 "metadata": {
  "kernelspec": {
   "display_name": "Python 3 (ipykernel)",
   "language": "python",
   "name": "python3"
  },
  "language_info": {
   "codemirror_mode": {
    "name": "ipython",
    "version": 3
   },
   "file_extension": ".py",
   "mimetype": "text/x-python",
   "name": "python",
   "nbconvert_exporter": "python",
   "pygments_lexer": "ipython3",
   "version": "3.9.7"
  }
 },
 "nbformat": 4,
 "nbformat_minor": 5
}
