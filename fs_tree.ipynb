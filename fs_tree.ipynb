{
 "cells": [
  {
   "cell_type": "markdown",
   "id": "d9319743-414a-4117-94f2-7ec894ffdac4",
   "metadata": {
    "tags": []
   },
   "source": [
    "# FileTree\n",
    "```\n",
    "Dependencies: treelib, os\n",
    "```\n",
    "Extension of treelib to provide handy utilities for making directories with ML/data science experiments in mind.\n",
    "Two ways of creating trees\n",
    "1. 'node view' this has finer control of appending to the tree (termed *unique node tree*)\n",
    "1. 'product view' this includes list of lists - each list is created in sublevel of element of higher level list (termed *product tree*). For example if inputting a list of lists `[[a,b],[C,D]]` we would expect the following tree \n",
    "\n",
    "```\n",
    "root\n",
    "├── a\n",
    "│   ├── C\n",
    "│   └── D\n",
    "└── b\n",
    "    ├── C\n",
    "    └── D\n",
    "```\n",
    "\n",
    "The latter may for example capture different values of tuning parameters that are then organised into a tree hierarchy.\n",
    "\n",
    "The package can create directories to disk after designing the tree.\n",
    "It is then possible to filter paths based on keywords.\n",
    "The user may wish to, for example, organise higher level directories according to a timestamp.\n",
    "\n",
    "#### Additional details\n",
    "Tree data structure recap:\n",
    "1. Each node is assigned a unique `identifier`. Used when adding a child node to a parent.\n",
    "1. Node data -- in this case carrying the name of a folder -- is stored in the node `tag` property\n",
    "\n",
    "See https://treelib.readthedocs.io/en/latest/ for more details."
   ]
  },
  {
   "cell_type": "markdown",
   "id": "79bd3cc6-ff81-482a-9c71-9bfd525cf270",
   "metadata": {},
   "source": [
    "#### FileTree"
   ]
  },
  {
   "cell_type": "code",
   "execution_count": 9,
   "id": "b4756239-2c78-4d9f-aeb9-7d357cd0412a",
   "metadata": {},
   "outputs": [],
   "source": [
    "from FileTree import FileTree"
   ]
  },
  {
   "cell_type": "markdown",
   "id": "999f4455-ff33-4717-9f3c-e054a76e207a",
   "metadata": {},
   "source": [
    "# Examples"
   ]
  },
  {
   "cell_type": "markdown",
   "id": "5ef2a983-2525-4c0b-906c-5a2d49bb32aa",
   "metadata": {},
   "source": [
    "### Simple node tree\n",
    "Get the path to a node through specifying the node name. At the moment, the tag (`create_node`'s first argument must be the same as the identifier). `path_from_root` then prints the list of tags that connects the specified node with the root"
   ]
  },
  {
   "cell_type": "code",
   "execution_count": 2,
   "id": "dd1643e7-5542-4778-9811-7c23d9822858",
   "metadata": {},
   "outputs": [
    {
     "name": "stdout",
     "output_type": "stream",
     "text": [
      "node1\n",
      "├── node2\n",
      "└── node3\n",
      "    └── node4\n",
      "\n",
      "['node1/node2'] \n",
      "\n",
      "['node1/node3/node4'] \n",
      "\n"
     ]
    }
   ],
   "source": [
    "\n",
    "tree = FileTree()\n",
    "n1 = tree.create_node('node1',identifier='1')\n",
    "n2 = tree.create_node('node2',identifier='2', parent='1')\n",
    "n3 = tree.create_node('node3',identifier='3', parent='1')\n",
    "node = tree.create_node('node4',identifier='4',parent='3')\n",
    "\n",
    "tree.show()\n",
    "print(tree.path_search('node2'),'\\n')\n",
    "print(tree.path_search('node4'),'\\n')\n"
   ]
  },
  {
   "cell_type": "markdown",
   "id": "6a81d2f1-4260-452a-a989-818b7eb3cfd2",
   "metadata": {},
   "source": [
    "### Product trees\n",
    "Make a product tree through list of lists"
   ]
  },
  {
   "cell_type": "code",
   "execution_count": 3,
   "id": "fd5b27d7-9872-4202-8c66-122eff158266",
   "metadata": {},
   "outputs": [
    {
     "name": "stdout",
     "output_type": "stream",
     "text": [
      "root\n",
      "├── a\n",
      "│   ├── 1\n",
      "│   │   ├── alpha\n",
      "│   │   ├── beta\n",
      "│   │   └── gamma\n",
      "│   └── 2\n",
      "│       ├── alpha\n",
      "│       ├── beta\n",
      "│       └── gamma\n",
      "└── b\n",
      "    ├── 1\n",
      "    │   ├── alpha\n",
      "    │   ├── beta\n",
      "    │   └── gamma\n",
      "    └── 2\n",
      "        ├── alpha\n",
      "        ├── beta\n",
      "        └── gamma\n",
      "\n"
     ]
    }
   ],
   "source": [
    "\n",
    "product_tree = FileTree()\n",
    "root_node = product_tree.create_node('root')\n",
    "\n",
    "product_lists = (['a','b'],['1','2'],['alpha','beta','gamma'])\n",
    "product_tree.append_product_tree(root_node,*product_lists)\n",
    "product_tree.show()\n"
   ]
  },
  {
   "cell_type": "markdown",
   "id": "b91f0850-e18c-458c-a1cf-85c1e018d16d",
   "metadata": {},
   "source": [
    "### Append a product tree to a manually created tree\n",
    "Paste the product tree into the unique node tree (this may lose uniqueness)"
   ]
  },
  {
   "cell_type": "code",
   "execution_count": 4,
   "id": "9725e628-97a2-4d8b-8448-2fe3c77e4c04",
   "metadata": {},
   "outputs": [
    {
     "name": "stdout",
     "output_type": "stream",
     "text": [
      "node1\n",
      "├── node2\n",
      "│   ├── a\n",
      "│   │   ├── 1\n",
      "│   │   │   ├── alpha\n",
      "│   │   │   ├── beta\n",
      "│   │   │   └── gamma\n",
      "│   │   └── 2\n",
      "│   │       ├── alpha\n",
      "│   │       ├── beta\n",
      "│   │       └── gamma\n",
      "│   └── b\n",
      "│       ├── 1\n",
      "│       │   ├── alpha\n",
      "│       │   ├── beta\n",
      "│       │   └── gamma\n",
      "│       └── 2\n",
      "│           ├── alpha\n",
      "│           ├── beta\n",
      "│           └── gamma\n",
      "└── node3\n",
      "    └── node4\n",
      "\n"
     ]
    }
   ],
   "source": [
    "appending_node = tree.get_node('2')\n",
    "\n",
    "tree.append_product_tree(appending_node, *product_lists)\n",
    "tree.show()"
   ]
  },
  {
   "cell_type": "markdown",
   "id": "172bea1c-3899-4fef-96cd-5d124d71997d",
   "metadata": {},
   "source": [
    "### Make directories in current location\n",
    "Calls the function to make all the directories based on the previously combined tree"
   ]
  },
  {
   "cell_type": "code",
   "execution_count": 5,
   "id": "74427842-dfe2-4b1d-9b20-bca5095dcbda",
   "metadata": {},
   "outputs": [
    {
     "name": "stdout",
     "output_type": "stream",
     "text": [
      "node1\n",
      "├── node2\n",
      "│   ├── a\n",
      "│   │   ├── 1\n",
      "│   │   │   ├── alpha\n",
      "│   │   │   ├── beta\n",
      "│   │   │   └── gamma\n",
      "│   │   └── 2\n",
      "│   │       ├── alpha\n",
      "│   │       ├── beta\n",
      "│   │       └── gamma\n",
      "│   └── b\n",
      "│       ├── 1\n",
      "│       │   ├── alpha\n",
      "│       │   ├── beta\n",
      "│       │   └── gamma\n",
      "│       └── 2\n",
      "│           ├── alpha\n",
      "│           ├── beta\n",
      "│           └── gamma\n",
      "└── node3\n",
      "    └── node4\n",
      "\n",
      "\n",
      "written directory tree -- (exist_ok=True)\n"
     ]
    }
   ],
   "source": [
    "tree.show()\n",
    "tree.make_dirs()"
   ]
  },
  {
   "cell_type": "markdown",
   "id": "f44c2e15-b8e1-4592-acba-0c73198e0625",
   "metadata": {},
   "source": [
    "# Data science example\n",
    "Example used to generate directory structure in intro."
   ]
  },
  {
   "cell_type": "code",
   "execution_count": 6,
   "id": "e5d53fa8-46b7-410f-92df-1a5e4f10d3a0",
   "metadata": {},
   "outputs": [
    {
     "name": "stdout",
     "output_type": "stream",
     "text": [
      "project_name\n",
      "├── time_stamp_1\n",
      "│   ├── data_set_1\n",
      "│   │   ├── param_val_1\n",
      "│   │   ├── param_val_2\n",
      "│   │   └── param_val_3\n",
      "│   └── data_set_2\n",
      "│       ├── param_val_1\n",
      "│       ├── param_val_2\n",
      "│       └── param_val_3\n",
      "└── time_stamp_2\n",
      "    ├── data_set_1\n",
      "    │   ├── param_val_1\n",
      "    │   ├── param_val_2\n",
      "    │   └── param_val_3\n",
      "    └── data_set_2\n",
      "        ├── param_val_1\n",
      "        ├── param_val_2\n",
      "        └── param_val_3\n",
      "\n"
     ]
    }
   ],
   "source": [
    "# initalise tree\n",
    "tree = FileTree()\n",
    "\n",
    "# make unique node tree\n",
    "tree.create_node('project_name',identifier='project_name')\n",
    "tree.create_node('time_stamp_1',identifier='time_stamp_1',parent='project_name')\n",
    "tree.create_node('time_stamp_2',identifier='time_stamp_2',parent='project_name')\n",
    "\n",
    "# define list of lists that will be used to make product trees\n",
    "product_lists = [\n",
    "    ['data_set_1','data_set_2'],\n",
    "    ['param_val_1','param_val_2','param_val_3'],\n",
    "]\n",
    "\n",
    "# get the first node to append the product tree to\n",
    "appending_node = tree.get_node('time_stamp_1')\n",
    "tree.append_product_tree(appending_node, *product_lists)\n",
    "\n",
    "# get the second node to append the product tree to\n",
    "appending_node = tree.get_node('time_stamp_2')\n",
    "tree.append_product_tree(appending_node, *product_lists)\n",
    "tree.show()\n"
   ]
  },
  {
   "cell_type": "markdown",
   "id": "e7514b73-91d4-44de-84ca-9b1b86b18cc8",
   "metadata": {},
   "source": [
    "### Search for paths\n",
    "Also able to search the tree for nodes with a particular name.\n",
    "By default, the filter asserts all path exist on disk."
   ]
  },
  {
   "cell_type": "code",
   "execution_count": 7,
   "id": "cbea2216-a305-4a30-ae16-c1987850378d",
   "metadata": {},
   "outputs": [
    {
     "name": "stdout",
     "output_type": "stream",
     "text": [
      "project_name\n",
      "├── time_stamp_1\n",
      "│   ├── data_set_1\n",
      "│   │   ├── param_val_1\n",
      "│   │   ├── param_val_2\n",
      "│   │   └── param_val_3\n",
      "│   └── data_set_2\n",
      "│       ├── param_val_1\n",
      "│       ├── param_val_2\n",
      "│       └── param_val_3\n",
      "└── time_stamp_2\n",
      "    ├── data_set_1\n",
      "    │   ├── param_val_1\n",
      "    │   ├── param_val_2\n",
      "    │   └── param_val_3\n",
      "    └── data_set_2\n",
      "        ├── param_val_1\n",
      "        ├── param_val_2\n",
      "        └── param_val_3\n",
      "\n",
      "search tree for keywords: ['time_stamp_1', 'param_val_1']\n",
      "\n",
      "Require all search terms appear in path to root\n",
      "project_name/time_stamp_1/data_set_1/param_val_1\n",
      "project_name/time_stamp_1/data_set_2/param_val_1\n",
      "\n",
      "\n",
      "Require any of the search terms appear in path to root\n",
      "project_name/time_stamp_1\n",
      "project_name/time_stamp_1/data_set_1/param_val_1\n",
      "project_name/time_stamp_1/data_set_2/param_val_1\n",
      "project_name/time_stamp_2/data_set_1/param_val_1\n",
      "project_name/time_stamp_2/data_set_2/param_val_1\n"
     ]
    }
   ],
   "source": [
    "# tree.path_search(lambda x: x.tag=='param_val_1' | x.is_ancestor('time_stamp_1'))\n",
    "\n",
    "tree.show()\n",
    "\n",
    "keywords = ['time_stamp_1','param_val_1']\n",
    "print('search tree for keywords: {}'.format(keywords))\n",
    "\n",
    "print('\\nRequire all search terms appear in path to root')\n",
    "search_res = tree.path_search(keywords,req_all_keywords=True)\n",
    "for s in search_res:\n",
    "    print(s)\n",
    "\n",
    "print('\\n\\nRequire any of the search terms appear in path to root')   \n",
    "search_res = tree.path_search(keywords,req_all_keywords=False)\n",
    "for s in search_res:\n",
    "    print(s)\n"
   ]
  },
  {
   "cell_type": "code",
   "execution_count": null,
   "id": "a84097f6-d784-47b4-9c9d-a3c2a98813e2",
   "metadata": {},
   "outputs": [],
   "source": []
  }
 ],
 "metadata": {
  "kernelspec": {
   "display_name": "Python 3 (ipykernel)",
   "language": "python",
   "name": "python3"
  },
  "language_info": {
   "codemirror_mode": {
    "name": "ipython",
    "version": 3
   },
   "file_extension": ".py",
   "mimetype": "text/x-python",
   "name": "python",
   "nbconvert_exporter": "python",
   "pygments_lexer": "ipython3",
   "version": "3.10.4"
  }
 },
 "nbformat": 4,
 "nbformat_minor": 5
}
